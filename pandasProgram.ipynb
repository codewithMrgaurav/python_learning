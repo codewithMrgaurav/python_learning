{
 "cells": [
  {
   "cell_type": "code",
   "execution_count": null,
   "metadata": {
    "vscode": {
     "languageId": "plaintext"
    }
   },
   "outputs": [],
   "source": [
    "import pandas as pd\n",
    "\n",
    "dataframe = pd.read_csv('student_exam_scores.csv')\n",
    "\n",
    "# df = dataframe.to_string()\n",
    "\n",
    "df = dataframe\n",
    "\n",
    "# df\n",
    "# df.tail(10)\n",
    "# df.head(10)\n",
    "\n",
    "# print(pd.options.display.max_rows) \n",
    "# pd.options.display.max_rows = 300\n",
    "# print(pd.options.display.max_rows) \n",
    "\n",
    "# print(df.info())\n",
    "# df.dropna(inplace = True)\n",
    "\n",
    "new_df = df.dropna()\n",
    "new_df\n",
    "x = new_df[\"sleep_hours\"].median()\n",
    "print(x)\n",
    "new_df.loc[ 76, 'sleep_hours'] = x\n",
    "\n",
    "# new_df['sleep_hours']\n",
    "\n",
    "new_df.sleep_hours[76]\n",
    "\n",
    "new_df[(new_df['sleep_hours'] > 6) & (new_df['sleep_hours'] < 9)]\n",
    "\n",
    "new_df['sleep_hours'].mean()\n",
    "\n",
    "new_df.sort_values('sleep_hours')"
   ]
  }
 ],
 "metadata": {
  "language_info": {
   "name": "python"
  }
 },
 "nbformat": 4,
 "nbformat_minor": 5
}
