{
 "cells": [
  {
   "cell_type": "markdown",
   "id": "c630d5b1-48f9-4436-be0a-e896cc17c182",
   "metadata": {},
   "source": [
    "# Program1"
   ]
  },
  {
   "cell_type": "code",
   "execution_count": 1,
   "id": "a7689f8d-85c5-459d-90e8-9663636c30cc",
   "metadata": {},
   "outputs": [
    {
     "name": "stdout",
     "output_type": "stream",
     "text": [
      "3.17\n",
      "7.0\n",
      "-4.0\n",
      "[-3.  3.]\n",
      "[-3.  3.]\n"
     ]
    }
   ],
   "source": [
    "import numpy as np\n",
    "\n",
    "arr = np.around(3.1666, 2)\n",
    "arr2=np.floor(7.99999)\n",
    "arr3=np.ceil(-4.66)\n",
    "arr4= np.fix([-3.1666, 3.6667])\n",
    "arr5 = np.trunc([-3.1666, 3.6667])\n",
    "\n",
    "print(arr)\n",
    "print(arr2)\n",
    "print(arr3)\n",
    "print(arr4)\n",
    "print(arr5)"
   ]
  },
  {
   "cell_type": "markdown",
   "id": "11383740-0a0d-43fa-a8ae-58239a1c1154",
   "metadata": {},
   "source": [
    "# Program 2"
   ]
  },
  {
   "cell_type": "code",
   "execution_count": 9,
   "id": "7a25a6fd-430f-4d8d-a681-afc29d5cf22f",
   "metadata": {},
   "outputs": [
    {
     "name": "stdout",
     "output_type": "stream",
     "text": [
      "NumPy Array: [1 2 3 4 5]\n",
      "Mean: 3.0\n",
      "Sum: 15\n",
      "Reshaped Array:\n",
      " [[1]\n",
      " [2]\n",
      " [3]\n",
      " [4]\n",
      " [5]]\n",
      "Matrix Product:\n",
      " [[19 22]\n",
      " [43 50]]\n",
      "Reshaped Array:\n",
      " [[1]\n",
      " [2]\n",
      " [3]\n",
      " [4]\n",
      " [5]]\n",
      "Random Numbers:\n",
      " [[0.81669302 0.85905608 0.7978291 ]\n",
      " [0.58307262 0.41696988 0.60609696]\n",
      " [0.09821912 0.14567623 0.57577227]]\n",
      "Rounded Numbers:\n",
      " [[1. 1. 1.]\n",
      " [1. 0. 1.]\n",
      " [0. 0. 1.]]\n",
      "Floored Numbers:\n",
      " [[0. 0. 0.]\n",
      " [0. 0. 0.]\n",
      " [0. 0. 0.]]\n",
      "Sliced Array: [2 3 4]\n"
     ]
    }
   ],
   "source": [
    "import numpy as np\n",
    "\n",
    "array = np.array([1, 2, 3, 4, 5])\n",
    "print(\"NumPy Array:\", array)\n",
    "\n",
    "mean_value = np.mean(array)\n",
    "sum_value = np.sum(array)\n",
    "print(\"Mean:\", mean_value)\n",
    "print(\"Sum:\", sum_value)\n",
    "\n",
    "reshaped_array = array.reshape((5, 1))\n",
    "print(\"Reshaped Array:\\n\", reshaped_array)\n",
    "\n",
    "matrix_a = np.array([[1, 2], [3, 4]])\n",
    "matrix_b = np.array([[5, 6], [7, 8]])\n",
    "matrix_product = np.dot(matrix_a, matrix_b)\n",
    "print(\"Matrix Product:\\n\", matrix_product)\n",
    "\n",
    "reshaped_array = array.reshape((5, 1))\n",
    "print(\"Reshaped Array:\\n\", reshaped_array)\n",
    "\n",
    "random_numbers = np.random.rand(3, 3)\n",
    "print(\"Random Numbers:\\n\", random_numbers)\n",
    "\n",
    "rounded_numbers = np.around(random_numbers)\n",
    "print(\"Rounded Numbers:\\n\", rounded_numbers)\n",
    "\n",
    "floored_numbers = np.floor(random_numbers)\n",
    "print(\"Floored Numbers:\\n\", floored_numbers)\n",
    "\n",
    "sliced_array = array[1:4]\n",
    "print(\"Sliced Array:\", sliced_array)\n"
   ]
  },
  {
   "cell_type": "markdown",
   "id": "955e1186-1592-4622-9b7b-5c3856e8825f",
   "metadata": {},
   "source": [
    "# Program 3"
   ]
  },
  {
   "cell_type": "code",
   "execution_count": 6,
   "id": "591f59ed-05fc-4f46-9345-a07ce188de14",
   "metadata": {},
   "outputs": [
    {
     "name": "stdout",
     "output_type": "stream",
     "text": [
      "Reshaped Array:\n",
      " [[ 1  2  3  6]\n",
      " [ 9 11 34 56]]\n"
     ]
    },
    {
     "ename": "IndexError",
     "evalue": "too many indices for array: array is 1-dimensional, but 2 were indexed",
     "output_type": "error",
     "traceback": [
      "\u001b[31m---------------------------------------------------------------------------\u001b[39m",
      "\u001b[31mIndexError\u001b[39m                                Traceback (most recent call last)",
      "\u001b[36mCell\u001b[39m\u001b[36m \u001b[39m\u001b[32mIn[6]\u001b[39m\u001b[32m, line 8\u001b[39m\n\u001b[32m      5\u001b[39m reshaped_array = a.reshape((\u001b[32m2\u001b[39m, \u001b[32m4\u001b[39m))\n\u001b[32m      6\u001b[39m \u001b[38;5;28mprint\u001b[39m(\u001b[33m\"\u001b[39m\u001b[33mReshaped Array:\u001b[39m\u001b[38;5;130;01m\\n\u001b[39;00m\u001b[33m\"\u001b[39m, reshaped_array)\n\u001b[32m----> \u001b[39m\u001b[32m8\u001b[39m \u001b[38;5;28mprint\u001b[39m(\u001b[43ma\u001b[49m\u001b[43m[\u001b[49m\u001b[32;43m0\u001b[39;49m\u001b[43m:\u001b[49m\u001b[32;43m2\u001b[39;49m\u001b[43m,\u001b[49m\u001b[43m \u001b[49m\u001b[32;43m1\u001b[39;49m\u001b[43m:\u001b[49m\u001b[32;43m2\u001b[39;49m\u001b[43m]\u001b[49m)  \n\u001b[32m     10\u001b[39m b = np.array([[\u001b[32m1\u001b[39m, \u001b[32m2\u001b[39m], [\u001b[32m3\u001b[39m, \u001b[32m4\u001b[39m]])       \n\u001b[32m     11\u001b[39m c = np.zeros((\u001b[32m2\u001b[39m, \u001b[32m3\u001b[39m))                  \n",
      "\u001b[31mIndexError\u001b[39m: too many indices for array: array is 1-dimensional, but 2 were indexed"
     ]
    }
   ],
   "source": [
    "import numpy as np\n",
    "\n",
    "a = np.array([1, 2, 3, 6, 9, 11, 34, 56])    \n",
    "\n",
    "reshaped_array = a.reshape((2, 4))\n",
    "print(\"Reshaped Array:\\n\", reshaped_array)\n",
    "\n",
    "print(reshaped_array[0:2, 1:2])  \n",
    "\n",
    "b = np.array([[1, 2], [3, 4]])       \n",
    "c = np.zeros((2, 3))                  \n",
    "d = np.ones((3, 2))                   \n",
    "f = np.arange(0, 10, 2)               \n",
    "g = np.linspace(0, 1, 6)             \n",
    "\n",
    "print(a, b, c, d, f, g)\n"
   ]
  },
  {
   "cell_type": "code",
   "execution_count": null,
   "id": "bd274073-3d90-46f5-9d91-f6b0c8ec4dc5",
   "metadata": {},
   "outputs": [],
   "source": []
  },
  {
   "cell_type": "code",
   "execution_count": null,
   "id": "0eb1cd07-b086-489a-8364-50ad561a1a5c",
   "metadata": {},
   "outputs": [],
   "source": []
  }
 ],
 "metadata": {
  "kernelspec": {
   "display_name": "Python [conda env:base] *",
   "language": "python",
   "name": "conda-base-py"
  },
  "language_info": {
   "codemirror_mode": {
    "name": "ipython",
    "version": 3
   },
   "file_extension": ".py",
   "mimetype": "text/x-python",
   "name": "python",
   "nbconvert_exporter": "python",
   "pygments_lexer": "ipython3",
   "version": "3.13.5"
  }
 },
 "nbformat": 4,
 "nbformat_minor": 5
}
