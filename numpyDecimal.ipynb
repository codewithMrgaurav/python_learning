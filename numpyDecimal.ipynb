{
 "cells": [
  {
   "cell_type": "markdown",
   "id": "0424dc20-534e-47f7-9bbc-8ad72cd57331",
   "metadata": {},
   "source": [
    "Code of Rounding"
   ]
  },
  {
   "cell_type": "code",
   "execution_count": null,
   "id": "ed887ebb-7af3-4e44-a12c-fb8e94f106a7",
   "metadata": {},
   "outputs": [
    {
     "name": "stdout",
     "output_type": "stream",
     "text": [
      "3.17\n",
      "7.0\n",
      "-4.0\n",
      "[-3.  3.]\n",
      "[-3.  3.]\n"
     ]
    }
   ],
   "source": [
    "import numpy as np\n",
    "\n",
    "arr = np.around(3.1666, 2)\n",
    "arr2=np.floor(7.99999)\n",
    "arr3=np.ceil(-4.66)\n",
    "arr4= np.fix([-3.1666, 3.6667])\n",
    "arr5 = np.trunc([-3.1666, 3.6667])\n",
    "\n",
    "print(arr)\n",
    "print(arr2)\n",
    "print(arr3)\n",
    "print(arr4)\n",
    "print(arr5)"
   ]
  },
  {
   "cell_type": "code",
   "execution_count": null,
   "id": "f82786e4-894e-43d6-a94f-1da9bc9ad1a7",
   "metadata": {},
   "outputs": [],
   "source": []
  },
  {
   "cell_type": "code",
   "execution_count": null,
   "id": "0ba38954-4697-44ae-aa6b-f72a9814f75f",
   "metadata": {},
   "outputs": [],
   "source": []
  }
 ],
 "metadata": {
  "kernelspec": {
   "display_name": "Python 3 (ipykernel)",
   "language": "python",
   "name": "python3"
  },
  "language_info": {
   "codemirror_mode": {
    "name": "ipython",
    "version": 3
   },
   "file_extension": ".py",
   "mimetype": "text/x-python",
   "name": "python",
   "nbconvert_exporter": "python",
   "pygments_lexer": "ipython3",
   "version": "3.13.5"
  }
 },
 "nbformat": 4,
 "nbformat_minor": 5
}
