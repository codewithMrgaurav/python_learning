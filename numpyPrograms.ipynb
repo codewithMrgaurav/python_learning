import numpy as np

# Example 1: Creating a NumPy array
array = np.array([1, 2, 3, 4, 5])

print("NumPy Array:", array)

# Example 2: Performing basic operations

mean_value = np.mean(array)
sum_value = np.sum(array)
print("Mean:", mean_value)
print("Sum:", sum_value)    

# Example 3: Reshaping an array
reshaped_array = array.reshape((5, 1))
print("Reshaped Array:\n", reshaped_array)
# Example 4: Creating a 2D array and performing matrix multiplication
matrix_a = np.array([[1, 2], [3, 4]])
matrix_b = np.array([[5, 6], [7, 8]])

matrix_product = np.dot(matrix_a, matrix_b)

print("Matrix Product:\n", matrix_product)

# Example 5: Generating random numbers

random_numbers = np.random.rand(3, 3)
print("Random Numbers:\n", random_numbers)
# Example 6: Slicing an array

sliced_array = array[1:4]
print("Sliced Array:", sliced_array)    


