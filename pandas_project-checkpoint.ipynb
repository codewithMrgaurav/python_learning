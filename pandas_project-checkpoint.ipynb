{
 "cells": [
  {
   "cell_type": "code",
   "execution_count": null,
   "id": "b2d3c775-28a8-4d99-a858-e3c03a7eb7e9",
   "metadata": {},
   "outputs": [],
   "source": [
    "import pandas as pd\n",
    "\n",
    "dataframe = pd.read_csv('student_exam_scores.csv')\n",
    "\n",
    "# df = dataframe.to_string()\n",
    "\n",
    "df = dataframe\n",
    "\n",
    "# print(df)\n",
    "# df.tail(10)\n",
    "# df.head(10)\n",
    "\n",
    "# print(pd.options.display.max_rows) \n",
    "# pd.options.display.max_rows = 300\n",
    "# print(pd.options.display.max_rows) \n",
    "\n",
    "# print(df.info())\n",
    "# df.dropna(inplace = True)\n",
    "\n",
    "new_df = df.dropna()\n",
    "# print(new_df.dtypes)\n",
    "# print(new_df.describe())\n",
    "\n",
    "new_df\n",
    "print(\"Sleep Hours\")\n",
    "x = new_df[\"sleep_hours\"].median()\n",
    "print(\"median :\", x)\n",
    "new_df.loc[ 76, 'sleep_hours'] = x\n",
    "\n",
    "new_df['sleep_hours']\n",
    "\n",
    "new_df.sleep_hours[76]\n",
    "\n",
    "# sorted_df = new_df[(new_df['sleep_hours'] > 6) & (new_df['sleep_hours'] < 9)]\n",
    "sorted_df = new_df.sort_values(by='exam_score', ascending=False)\n",
    "# print(\"sorted df :\",sorted_df[['sleep_hours', 'exam_score']])\n",
    "\n",
    "\n",
    "print(\"mean :\",sorted_df['sleep_hours'].mean())\n",
    "# print(sorted_df.sort_values('sleep_hours'))\n",
    "\n",
    "import matplotlib.pyplot as plt\n",
    "\n",
    "# plt.scatter(df['hours_studied'], df['exam_score'])\n",
    "# plt.xlabel('Hours Studied')\n",
    "# plt.ylabel('Exam Score')\n",
    "# plt.title('Scatter Plot of Hours Studied vs Exam Score')\n",
    "# plt.show()\n",
    "\n",
    "plt.plot(df['hours_studied'], df['exam_score'], label='Exam Scores', color='blue')\n",
    "plt.plot(df['hours_studied'], df['attendance_percent'], label='Attendance Percent', color='green')\n",
    "plt.xlabel('Hours Studied')\n",
    "plt.ylabel('Scores / Percent')\n",
    "plt.title('Multiple Lines: Exam Scores and Attendance Percent')\n",
    "plt.legend()  # Display the legend\n",
    "plt.show()\n",
    "\n"
   ]
  },
  {
   "cell_type": "code",
   "execution_count": null,
   "id": "581bb9a2-4f30-4131-9551-963c55aa0839",
   "metadata": {},
   "outputs": [],
   "source": []
  }
 ],
 "metadata": {
  "kernelspec": {
   "display_name": "Python 3",
   "language": "python",
   "name": "python3"
  },
  "language_info": {
   "codemirror_mode": {
    "name": "ipython",
    "version": 3
   },
   "file_extension": ".py",
   "mimetype": "text/x-python",
   "name": "python",
   "nbconvert_exporter": "python",
   "pygments_lexer": "ipython3",
   "version": "3.13.3"
  }
 },
 "nbformat": 4,
 "nbformat_minor": 5
}
